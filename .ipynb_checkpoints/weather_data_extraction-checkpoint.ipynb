{
 "cells": [
  {
   "cell_type": "code",
   "execution_count": 14,
   "id": "e654b226-7172-4ecd-a50d-7fa8c7bd29b5",
   "metadata": {},
   "outputs": [],
   "source": [
    "import os\n",
    "import bs4\n",
    "from bs4 import BeautifulSoup\n",
    "import requests\n",
    "import pandas as pd\n",
    "from datetime import datetime\n",
    "from config import site_link"
   ]
  },
  {
   "cell_type": "code",
   "execution_count": 15,
   "id": "62e921da-336a-410a-9bd8-261616a42064",
   "metadata": {},
   "outputs": [],
   "source": [
    "class Weather:\n",
    "    def _city_temp_extractor(self,elem):\n",
    "        temp = elem[len(elem)-3:-1]\n",
    "        if temp[0] == '0':\n",
    "            temp = temp[1]\n",
    "        city =\"\"\n",
    "        for ele in elem:\n",
    "            if ele.isalpha() or ele == ' ':\n",
    "                city+=ele\n",
    "            else:\n",
    "                break\n",
    "        city = city[:-1]\n",
    "        return [city,temp,str(datetime.now())] \n",
    "    \n",
    "    def saveToExcel(self):\n",
    "        lis = self.worldWideReport()\n",
    "        df = pd.DataFrame(data = lis,columns = ['City','Temparature-in-Celcius','Extraction-Datetime'])\n",
    "        df.to_csv('weather.csv')\n",
    "        print(f\"Data saved in {os.getcwd()}\\\\weather.csv\")\n",
    "        \n",
    "    def worldWideReport(self):\n",
    "        url= site_link['url']\n",
    "        page = requests.get(url)\n",
    "        print(page)\n",
    "        soup =  BeautifulSoup(page.content,'html.parser')\n",
    "        #print(soup.prettify())\n",
    "        table = soup.find_all('tr')\n",
    "        #print(table)\n",
    "        unfiltered_weather_list1 = []\n",
    "        unfiltered_weather_list2 = []\n",
    "        final_weather_list = []\n",
    "        for i in range(len(table)):\n",
    "            if i == 0:\n",
    "                continue\n",
    "            text = table[i].getText()\n",
    "            weather_text = text.split('°C')\n",
    "            #print(weather_text)\n",
    "            unfiltered_weather_list1.append(weather_text[0])\n",
    "            unfiltered_weather_list2.append(weather_text[1])\n",
    "            \n",
    "        for elem in unfiltered_weather_list1:\n",
    "            final_weather_list.append(self._city_temp_extractor(elem))\n",
    "        for elem in unfiltered_weather_list2:\n",
    "            final_weather_list.append(self._city_temp_extractor(elem)) \n",
    "\n",
    "        return final_weather_list\n",
    "        "
   ]
  },
  {
   "cell_type": "code",
   "execution_count": 17,
   "id": "e2e17d49-ff23-46c8-a790-da7bd1302885",
   "metadata": {},
   "outputs": [
    {
     "name": "stdout",
     "output_type": "stream",
     "text": [
      "<Response [200]>\n",
      "<Response [200]>\n",
      "Data saved in C:\\Users\\bibha\\Desktop\\Weather-for-git\\weather.csv\n"
     ]
    }
   ],
   "source": [
    "weather = Weather()\n",
    "weather.worldWideReport()\n",
    "weather.saveToExcel()"
   ]
  },
  {
   "cell_type": "code",
   "execution_count": null,
   "id": "b8b9fb02-2889-4c26-b7f7-94b75091d10c",
   "metadata": {},
   "outputs": [],
   "source": []
  }
 ],
 "metadata": {
  "kernelspec": {
   "display_name": "Python 3 (ipykernel)",
   "language": "python",
   "name": "python3"
  },
  "language_info": {
   "codemirror_mode": {
    "name": "ipython",
    "version": 3
   },
   "file_extension": ".py",
   "mimetype": "text/x-python",
   "name": "python",
   "nbconvert_exporter": "python",
   "pygments_lexer": "ipython3",
   "version": "3.10.11"
  }
 },
 "nbformat": 4,
 "nbformat_minor": 5
}
